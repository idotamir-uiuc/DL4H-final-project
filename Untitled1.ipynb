{
 "cells": [
  {
   "cell_type": "code",
   "execution_count": 1,
   "id": "73f634cd",
   "metadata": {},
   "outputs": [
    {
     "name": "stdout",
     "output_type": "stream",
     "text": [
      "Importing training data\n",
      "Train set size: 5000 , number of matched pairs:  1165\n",
      "Import testing data\n",
      "Test set size: 10000 , number of matched pairs:  5000\n",
      "BLOCKING PERFORMANCE:\n",
      "Number of pairs of matched given_name: 154898 , detected  3287 /5000 true matched pairs, missed 1713\n",
      "Number of pairs of matched surname: 170843 , detected  3325 /5000 true matched pairs, missed 1675\n",
      "Number of pairs of matched postcode: 53197 , detected  4219 /5000 true matched pairs, missed 781\n",
      "Number of pairs of at least 1 field matched: 372073 , detected  4894 /5000 true matched pairs, missed 106\n",
      "Processing test set...\n",
      "Preprocess...\n",
      "Extract feature vectors...\n",
      "Base model performance\n",
      "svm confusion_matrx: [[366980    199]\n",
      " [    13   4881]], precision: 0.9608267716535434, recall: 0.9973436861463016, f_score: 0.9787447363144175\n",
      "Bagging performance\n",
      "svm confusion_matrx: [[367001    178]\n",
      " [    13   4881]], precision: 0.9648151808657838, recall: 0.9973436861463016, f_score: 0.9808098060886167\n"
     ]
    }
   ],
   "source": [
    "from sklearn.model_selection import KFold\n",
    "import itertools\n",
    "from FEBRL_utils import *\n",
    "from utils import *\n",
    "\n",
    "training_set_file_name = 'FEBRL_train'\n",
    "testing_set_file_name = 'FEBRL_test'\n",
    "set_seed(42)\n",
    "\n",
    "print('Importing training data')\n",
    "X_train, y_train = preprocess_and_generate_train_data(training_set_file_name)\n",
    "\n",
    "print('Import testing data')\n",
    "X_test, y_test = preprocess_and_generate_test_data(testing_set_file_name)\n",
    "\n",
    "print('Base model performance')\n",
    "models = {\n",
    "    'svm': ['linear', 0.005],\n",
    "#     'nn': ['relu', 100],\n",
    "#     'lg': ['l2', 0.2],\n",
    "#     'rf': ['gini', 400],\n",
    "#     'dnn': ['relu', 200],\n",
    "}\n",
    "\n",
    "for model, model_params in models.items():\n",
    "    md = train_model(model, model_params[1], X_train, y_train, model_params[0], 10000)\n",
    "    prediction = classify(md, X_test)\n",
    "    eval_results = evaluate_results(y_test, prediction)\n",
    "    print(model, eval_results)\n",
    "\n",
    "print('Bagging performance')\n",
    "number_models = len(models)\n",
    "number_folds = 10\n",
    "kf = KFold(n_splits=number_folds)\n",
    "model_raw_score = np.zeros((number_models, len(X_test)))\n",
    "model_binary_score = [0] * number_models\n",
    "model_i = 0\n",
    "model_names = np.array(['.  '] * number_models, dtype=object)\n",
    "for model, model_params in models.items():\n",
    "    model_names[model_i] = model\n",
    "    iFold = 0\n",
    "    result_fold = [0] * number_folds\n",
    "    for train_index, valid_index in kf.split(X_train):\n",
    "        X_train_fold = X_train[train_index]\n",
    "        y_train_fold = y_train[train_index]\n",
    "        md = train_model(model, model_params[1], X_train_fold, y_train_fold, model_params[0], 10000)\n",
    "        result_fold[iFold] = classify(md, X_test)\n",
    "        iFold = iFold + 1\n",
    "    bagging_raw_score = np.average(result_fold, axis=0)\n",
    "    bagging_binary_score = np.copy(bagging_raw_score)\n",
    "    bagging_binary_score[bagging_binary_score > 0.5] = 1\n",
    "    bagging_binary_score[bagging_binary_score <= 0.5] = 0\n",
    "    bagging_eval = evaluate_results(y_test, bagging_binary_score)\n",
    "    print(model, bagging_eval)\n",
    "    model_raw_score[model_i, :] = bagging_raw_score\n",
    "    model_binary_score[model_i] = bagging_binary_score\n",
    "    model_i += 1\n",
    "\n"
   ]
  },
  {
   "cell_type": "code",
   "execution_count": 3,
   "id": "7e745446",
   "metadata": {},
   "outputs": [
    {
     "data": {
      "text/plain": [
       "array([0. , 0.1, 0.2, 0.3, 0.4, 0.5, 0.6, 0.7, 0.8, 0.9, 1. ])"
      ]
     },
     "execution_count": 3,
     "metadata": {},
     "output_type": "execute_result"
    }
   ],
   "source": [
    "np.unique(model_raw_score)"
   ]
  },
  {
   "cell_type": "code",
   "execution_count": 4,
   "id": "bd571c61",
   "metadata": {},
   "outputs": [
    {
     "data": {
      "text/plain": [
       "{0.0: 366974,\n",
       " 0.1: 14,\n",
       " 0.2: 11,\n",
       " 0.3: 5,\n",
       " 0.4: 5,\n",
       " 0.5: 5,\n",
       " 0.6: 1,\n",
       " 0.7: 5,\n",
       " 0.8: 5,\n",
       " 0.9: 21,\n",
       " 1.0: 5027}"
      ]
     },
     "execution_count": 4,
     "metadata": {},
     "output_type": "execute_result"
    }
   ],
   "source": [
    "unique, counts = np.unique(model_raw_score, return_counts=True)\n",
    "dict(zip(unique, counts))"
   ]
  },
  {
   "cell_type": "code",
   "execution_count": null,
   "id": "528ef37b",
   "metadata": {},
   "outputs": [],
   "source": []
  }
 ],
 "metadata": {
  "kernelspec": {
   "display_name": "Python 3 (ipykernel)",
   "language": "python",
   "name": "python3"
  },
  "language_info": {
   "codemirror_mode": {
    "name": "ipython",
    "version": 3
   },
   "file_extension": ".py",
   "mimetype": "text/x-python",
   "name": "python",
   "nbconvert_exporter": "python",
   "pygments_lexer": "ipython3",
   "version": "3.10.1"
  }
 },
 "nbformat": 4,
 "nbformat_minor": 5
}
