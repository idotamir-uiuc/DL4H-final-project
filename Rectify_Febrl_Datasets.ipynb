{
 "cells": [
  {
   "cell_type": "markdown",
   "metadata": {},
   "source": [
    "## Reproduce datasets for Scheme A\n",
    "\n",
    "Paper: \"Statistical supervised meta-ensemble algorithm for data linkage\"\n",
    "\n",
    "Kha Vo, Jitendra Jonnagaddala, Siaw-Teng Liaw\n",
    "\n",
    "February 2019\n",
    "\n",
    "Jounal of Biomedical Informatics"
   ]
  },
  {
   "cell_type": "code",
   "execution_count": 1,
   "metadata": {},
   "outputs": [],
   "source": [
    "import recordlinkage as rl, pandas as pd, numpy as np\n",
    "from recordlinkage.datasets import load_febrl4, load_febrl1, load_febrl2, load_febrl3\n",
    "from IPython.display import clear_output"
   ]
  },
  {
   "cell_type": "code",
   "execution_count": 2,
   "metadata": {},
   "outputs": [],
   "source": [
    "df_a, df_b, true_links_ab = load_febrl4(return_links=True) # use this for load_febrl4\n",
    "#df, true_links_ab = load_febrl3(return_links=True)\n",
    "# WARNING: load_febrl2 and load_febrl3 does not suit this code, need further process"
   ]
  },
  {
   "cell_type": "code",
   "execution_count": null,
   "metadata": {},
   "outputs": [],
   "source": []
  },
  {
   "cell_type": "code",
   "execution_count": 3,
   "metadata": {},
   "outputs": [
    {
     "name": "stderr",
     "output_type": "stream",
     "text": [
      "/var/folders/8r/gq_z1dy90bjc511vv0fncmww0000gn/T/ipykernel_26740/125540185.py:1: FutureWarning: The frame.append method is deprecated and will be removed from pandas in a future version. Use pandas.concat instead.\n",
      "  df = df_a.append(df_b) # use for load_febrl4\n"
     ]
    }
   ],
   "source": [
    "df = df_a.append(df_b) # use for load_febrl4"
   ]
  },
  {
   "cell_type": "code",
   "execution_count": 4,
   "metadata": {},
   "outputs": [
    {
     "name": "stdout",
     "output_type": "stream",
     "text": [
      "All fields: ['given_name', 'surname', 'street_number', 'address_1', 'address_2', 'suburb', 'postcode', 'state', 'day', 'month', 'year']\n"
     ]
    },
    {
     "data": {
      "text/html": [
       "<div>\n",
       "<style scoped>\n",
       "    .dataframe tbody tr th:only-of-type {\n",
       "        vertical-align: middle;\n",
       "    }\n",
       "\n",
       "    .dataframe tbody tr th {\n",
       "        vertical-align: top;\n",
       "    }\n",
       "\n",
       "    .dataframe thead th {\n",
       "        text-align: right;\n",
       "    }\n",
       "</style>\n",
       "<table border=\"1\" class=\"dataframe\">\n",
       "  <thead>\n",
       "    <tr style=\"text-align: right;\">\n",
       "      <th></th>\n",
       "      <th>given_name</th>\n",
       "      <th>surname</th>\n",
       "      <th>street_number</th>\n",
       "      <th>address_1</th>\n",
       "      <th>address_2</th>\n",
       "      <th>suburb</th>\n",
       "      <th>postcode</th>\n",
       "      <th>state</th>\n",
       "      <th>day</th>\n",
       "      <th>month</th>\n",
       "      <th>year</th>\n",
       "    </tr>\n",
       "    <tr>\n",
       "      <th>rec_id</th>\n",
       "      <th></th>\n",
       "      <th></th>\n",
       "      <th></th>\n",
       "      <th></th>\n",
       "      <th></th>\n",
       "      <th></th>\n",
       "      <th></th>\n",
       "      <th></th>\n",
       "      <th></th>\n",
       "      <th></th>\n",
       "      <th></th>\n",
       "    </tr>\n",
       "  </thead>\n",
       "  <tbody>\n",
       "    <tr>\n",
       "      <th>rec-1070-org</th>\n",
       "      <td>michaela</td>\n",
       "      <td>neumann</td>\n",
       "      <td>8</td>\n",
       "      <td>stanley street</td>\n",
       "      <td>miami</td>\n",
       "      <td>winston hills</td>\n",
       "      <td>4223</td>\n",
       "      <td>nsw</td>\n",
       "      <td>11</td>\n",
       "      <td>11</td>\n",
       "      <td>1915</td>\n",
       "    </tr>\n",
       "    <tr>\n",
       "      <th>rec-1016-org</th>\n",
       "      <td>courtney</td>\n",
       "      <td>painter</td>\n",
       "      <td>12</td>\n",
       "      <td>pinkerton circuit</td>\n",
       "      <td>bega flats</td>\n",
       "      <td>richlands</td>\n",
       "      <td>4560</td>\n",
       "      <td>vic</td>\n",
       "      <td>14</td>\n",
       "      <td>12</td>\n",
       "      <td>1916</td>\n",
       "    </tr>\n",
       "    <tr>\n",
       "      <th>rec-4405-org</th>\n",
       "      <td>charles</td>\n",
       "      <td>green</td>\n",
       "      <td>38</td>\n",
       "      <td>salkauskas crescent</td>\n",
       "      <td>kela</td>\n",
       "      <td>dapto</td>\n",
       "      <td>4566</td>\n",
       "      <td>nsw</td>\n",
       "      <td>30</td>\n",
       "      <td>09</td>\n",
       "      <td>1948</td>\n",
       "    </tr>\n",
       "    <tr>\n",
       "      <th>rec-1288-org</th>\n",
       "      <td>vanessa</td>\n",
       "      <td>parr</td>\n",
       "      <td>905</td>\n",
       "      <td>macquoid place</td>\n",
       "      <td>broadbridge manor</td>\n",
       "      <td>south grafton</td>\n",
       "      <td>2135</td>\n",
       "      <td>sa</td>\n",
       "      <td>19</td>\n",
       "      <td>11</td>\n",
       "      <td>1995</td>\n",
       "    </tr>\n",
       "    <tr>\n",
       "      <th>rec-3585-org</th>\n",
       "      <td>mikayla</td>\n",
       "      <td>malloney</td>\n",
       "      <td>37</td>\n",
       "      <td>randwick road</td>\n",
       "      <td>avalind</td>\n",
       "      <td>hoppers crossing</td>\n",
       "      <td>4552</td>\n",
       "      <td>vic</td>\n",
       "      <td>08</td>\n",
       "      <td>02</td>\n",
       "      <td>1986</td>\n",
       "    </tr>\n",
       "  </tbody>\n",
       "</table>\n",
       "</div>"
      ],
      "text/plain": [
       "             given_name   surname  street_number            address_1  \\\n",
       "rec_id                                                                  \n",
       "rec-1070-org   michaela   neumann              8       stanley street   \n",
       "rec-1016-org   courtney   painter             12    pinkerton circuit   \n",
       "rec-4405-org    charles     green             38  salkauskas crescent   \n",
       "rec-1288-org    vanessa      parr            905       macquoid place   \n",
       "rec-3585-org    mikayla  malloney             37        randwick road   \n",
       "\n",
       "                      address_2            suburb  postcode state day month  \\\n",
       "rec_id                                                                        \n",
       "rec-1070-org              miami     winston hills      4223   nsw  11    11   \n",
       "rec-1016-org         bega flats         richlands      4560   vic  14    12   \n",
       "rec-4405-org               kela             dapto      4566   nsw  30    09   \n",
       "rec-1288-org  broadbridge manor     south grafton      2135    sa  19    11   \n",
       "rec-3585-org            avalind  hoppers crossing      4552   vic  08    02   \n",
       "\n",
       "              year  \n",
       "rec_id              \n",
       "rec-1070-org  1915  \n",
       "rec-1016-org  1916  \n",
       "rec-4405-org  1948  \n",
       "rec-1288-org  1995  \n",
       "rec-3585-org  1986  "
      ]
     },
     "execution_count": 4,
     "metadata": {},
     "output_type": "execute_result"
    }
   ],
   "source": [
    "df['date_of_birth']  = pd.to_datetime(df['date_of_birth'], errors = 'coerce')\n",
    "df['day'] = df['date_of_birth'].dt.strftime('%d')\n",
    "df['month'] = df['date_of_birth'].dt.strftime('%m')\n",
    "df['year'] = df['date_of_birth'].dt.strftime('%Y')\n",
    "\n",
    "df['postcode'] =   df['postcode'].fillna('0000')\n",
    "df['postcode'] = df['postcode'].astype(int)\n",
    "\n",
    "df['street_number'] =   df['street_number'].fillna('0')\n",
    "df['street_number'] = df['street_number'].astype(int)\n",
    "\n",
    "df = df.drop([\"soc_sec_id\",  \"date_of_birth\"], axis=1)\n",
    "\n",
    "for col in [\"surname\", \"given_name\", \"address_1\", \"address_2\", \"day\", \"month\"]:\n",
    "    df[col] = df[col].fillna('')\n",
    "    df[col] = df[col].astype(str)\n",
    "\n",
    "\n",
    "# df[\"match_id\"] = range(len(df))\n",
    "\n",
    "all_fields = df.columns.values.tolist()\n",
    "#all_fields.remove('rec_id')\n",
    "\n",
    "print(\"All fields:\", all_fields)\n",
    "df.head()"
   ]
  },
  {
   "cell_type": "code",
   "execution_count": 5,
   "metadata": {},
   "outputs": [
    {
     "name": "stdout",
     "output_type": "stream",
     "text": [
      "Processed: 4999\n"
     ]
    }
   ],
   "source": [
    "df['match_id'] = [-1]*len(df)\n",
    "\n",
    "for i in range(len(true_links_ab)):\n",
    "    k0  = true_links_ab[i][0]\n",
    "    k1  = true_links_ab[i][1]\n",
    "    df.at[k0, \"match_id\"] = i\n",
    "    df.at[k1, \"match_id\"] = i\n",
    "    print(\"Processed:\", i)\n",
    "    clear_output(wait=True)\n"
   ]
  },
  {
   "cell_type": "code",
   "execution_count": null,
   "metadata": {
    "scrolled": true
   },
   "outputs": [],
   "source": []
  },
  {
   "cell_type": "code",
   "execution_count": 11,
   "metadata": {},
   "outputs": [],
   "source": [
    "#df.to_csv(\"febrl3_UNSW.csv\", index=True)\n",
    "df.to_csv(\"febrl4_UNSW.csv\", index=True)"
   ]
  },
  {
   "cell_type": "code",
   "execution_count": null,
   "metadata": {},
   "outputs": [],
   "source": []
  },
  {
   "cell_type": "code",
   "execution_count": null,
   "metadata": {},
   "outputs": [],
   "source": []
  }
 ],
 "metadata": {
  "kernelspec": {
   "display_name": "Python 3 (ipykernel)",
   "language": "python",
   "name": "python3"
  },
  "language_info": {
   "codemirror_mode": {
    "name": "ipython",
    "version": 3
   },
   "file_extension": ".py",
   "mimetype": "text/x-python",
   "name": "python",
   "nbconvert_exporter": "python",
   "pygments_lexer": "ipython3",
   "version": "3.10.1"
  }
 },
 "nbformat": 4,
 "nbformat_minor": 2
}
